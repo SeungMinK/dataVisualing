{
  "nbformat": 4,
  "nbformat_minor": 0,
  "metadata": {
    "colab": {
      "name": "Bigdata Lab 5.ipynb",
      "provenance": [],
      "collapsed_sections": [
        "gZEFUyZ5kRtb",
        "09OWOQqfkJq6",
        "AUN2uy1JvZU1",
        "LGHkbz_O3bUn",
        "tw2HO6szheNQ",
        "MUN15TcgmYat"
      ]
    },
    "kernelspec": {
      "name": "ir",
      "display_name": "R"
    }
  },
  "cells": [
    {
      "cell_type": "markdown",
      "metadata": {
        "id": "NqwIc2xhQqLu",
        "colab_type": "text"
      },
      "source": [
        "# **빅데이터개론 5주차 실습 - 데이터 시각화**\n",
        "\n",
        "- - -\n",
        "\n",
        "https://mode.com/blog/r-data-visualization-packages/\n"
      ]
    },
    {
      "cell_type": "markdown",
      "metadata": {
        "id": "gZEFUyZ5kRtb",
        "colab_type": "text"
      },
      "source": [
        "## **1. base R plot**\n",
        "\n",
        "- - -"
      ]
    },
    {
      "cell_type": "markdown",
      "metadata": {
        "id": "hlF3LuIC8NdE",
        "colab_type": "text"
      },
      "source": [
        "* plot() - base R\n",
        "\n",
        "기본적으로 plot() 함수는 주어진 데이터를 시각화하는데 모두 사용할 수 있는 일반적인 함수(base R)\n",
        "\n",
        "```\n",
        "plot(x, y) or plot(y ~ x)\n",
        "\n",
        "x ==> x 축\n",
        "y ==> y 축                                                    \n",
        "\n",
        "```"
      ]
    },
    {
      "cell_type": "code",
      "metadata": {
        "id": "aIRgU0bWy634",
        "colab_type": "code",
        "colab": {}
      },
      "source": [
        "# vector를 이용한 plot\n",
        "a <- 1:10\n",
        "b <- 1:10\n",
        "\n",
        "plot(x = a, y = b)"
      ],
      "execution_count": null,
      "outputs": []
    },
    {
      "cell_type": "code",
      "metadata": {
        "id": "ixBsbDYjzaTt",
        "colab_type": "code",
        "colab": {}
      },
      "source": [
        "plot(b ~ a)"
      ],
      "execution_count": null,
      "outputs": []
    },
    {
      "cell_type": "code",
      "metadata": {
        "id": "tsKuwDdPzc5Q",
        "colab_type": "code",
        "colab": {}
      },
      "source": [
        "# x축 y축을 설정하지 않는다면, default로 y축에 해당 값이 설정. x축은 y값의 index\n",
        "plot(a)"
      ],
      "execution_count": null,
      "outputs": []
    },
    {
      "cell_type": "code",
      "metadata": {
        "id": "i3HilYPZzpwr",
        "colab_type": "code",
        "colab": {}
      },
      "source": [
        "library(tidyverse)\n",
        "sample(1:100, 10, replace = F) %>% plot()"
      ],
      "execution_count": null,
      "outputs": []
    },
    {
      "cell_type": "code",
      "metadata": {
        "id": "mRQDyboK6Dd4",
        "colab_type": "code",
        "colab": {}
      },
      "source": [
        "# dataframe을 이용한 plot\n",
        "install.packages(\"data.table\")\n",
        "library(data.table)\n",
        "library(tidyverse)\n",
        "\n",
        "DF <- fread(\"ftp://210.115.229.94/2020_datascience/6th_data/Regular_Season_Batter.csv\") %>% as_tibble()"
      ],
      "execution_count": null,
      "outputs": []
    },
    {
      "cell_type": "code",
      "metadata": {
        "id": "Q7BubNFX6oKK",
        "colab_type": "code",
        "colab": {}
      },
      "source": [
        "DF %>% show()"
      ],
      "execution_count": null,
      "outputs": []
    },
    {
      "cell_type": "code",
      "metadata": {
        "id": "h7WJntZI6q85",
        "colab_type": "code",
        "colab": {}
      },
      "source": [
        "DF %>% str()"
      ],
      "execution_count": null,
      "outputs": []
    },
    {
      "cell_type": "code",
      "metadata": {
        "id": "lOA5XMDg68_l",
        "colab_type": "code",
        "colab": {}
      },
      "source": [
        "# https://dacon.io/competitions/official/235546/data/\n",
        "# G(출전게임수), avg(타율), R(득점), SO(삼진아웃)\n",
        "\n",
        "plot(x = DF$G, y = DF$avg)"
      ],
      "execution_count": null,
      "outputs": []
    },
    {
      "cell_type": "code",
      "metadata": {
        "id": "p1zrdvy28lDe",
        "colab_type": "code",
        "colab": {}
      },
      "source": [
        "# R(득점)\n",
        "plot(DF$avg ~ DF$R) "
      ],
      "execution_count": null,
      "outputs": []
    },
    {
      "cell_type": "code",
      "metadata": {
        "id": "2djkHY2jyUUo",
        "colab_type": "code",
        "colab": {}
      },
      "source": [
        "# 그래프 여러개, 대각선을 기준으로 수평 -> Y축, 수직 -> X축\n",
        "DF[ , 5:9] %>% plot()"
      ],
      "execution_count": null,
      "outputs": []
    },
    {
      "cell_type": "code",
      "metadata": {
        "id": "qKIhUxQM_aeV",
        "colab_type": "code",
        "colab": {}
      },
      "source": [
        "# select_if, 숫자형 열 전체\n",
        "DF %>% select_if(is.numeric) %>% plot()"
      ],
      "execution_count": null,
      "outputs": []
    },
    {
      "cell_type": "markdown",
      "metadata": {
        "id": "Am4DjPV5QIXU",
        "colab_type": "text"
      },
      "source": [
        "* **plot()의 주요 옵션**\n",
        "```\n",
        "xlab, ylab              x,y축 이름\n",
        "main                    그래프 제목\n",
        "pch(plotting character) 점의 종류\n",
        "cex(character size)     점의 크기\n",
        "col                     색상\n",
        "xlim,ylim               x,y축의 값 범위\n",
        "type                    그래프 유형\n",
        "```\n"
      ]
    },
    {
      "cell_type": "code",
      "metadata": {
        "id": "c430_5g7Qwdf",
        "colab_type": "code",
        "colab": {}
      },
      "source": [
        "# 연도별 팀 평균 타율\n",
        "team_year_avg <- DF %>% group_by(team, year) %>% summarise(avg_AVG = mean(avg, na.rm = T)) %>%\n",
        "                      filter(team == \"KIA\" | team == \"SK\" | team == \"삼성\")\n",
        "team_year_avg %>% show()"
      ],
      "execution_count": null,
      "outputs": []
    },
    {
      "cell_type": "code",
      "metadata": {
        "id": "KSZ-7g3b3yTx",
        "colab_type": "code",
        "colab": {}
      },
      "source": [
        "team_year_avg"
      ],
      "execution_count": null,
      "outputs": []
    },
    {
      "cell_type": "markdown",
      "metadata": {
        "id": "IWWHmhVmzjwk",
        "colab_type": "text"
      },
      "source": [
        "* default"
      ]
    },
    {
      "cell_type": "code",
      "metadata": {
        "id": "PJ-h9mefvld_",
        "colab_type": "code",
        "colab": {}
      },
      "source": [
        "# 기본 plot\n",
        "plot(x = team_year_avg$year, y = team_year_avg$avg_AVG)"
      ],
      "execution_count": null,
      "outputs": []
    },
    {
      "cell_type": "markdown",
      "metadata": {
        "id": "WC_PtVwzvI3W",
        "colab_type": "text"
      },
      "source": [
        "* plot type\n",
        "\n",
        "```\n",
        "“p”: Points\n",
        "\n",
        "“l”: Lines\n",
        "\n",
        "“b”: Both\n",
        "\n",
        "“c”: The lines part alone of “b”\n",
        "\n",
        "“o”: Both “overplotted”\n",
        "\n",
        "“h”: Histogram like (or high-density) vertical lines\n",
        "\n",
        "“n”: No plotting\n",
        "```\n"
      ]
    },
    {
      "cell_type": "code",
      "metadata": {
        "id": "s7fl-yuCCDGB",
        "colab_type": "code",
        "colab": {}
      },
      "source": [
        "plot(x = team_year_avg$year, y = team_year_avg$avg_AVG, type =\"p\")"
      ],
      "execution_count": null,
      "outputs": []
    },
    {
      "cell_type": "code",
      "metadata": {
        "id": "Unqt5CvTvVcF",
        "colab_type": "code",
        "colab": {}
      },
      "source": [
        "plot(x = team_year_avg$year, y = team_year_avg$avg_AVG, type =\"l\")"
      ],
      "execution_count": null,
      "outputs": []
    },
    {
      "cell_type": "code",
      "metadata": {
        "id": "nAfpjMtYvYLB",
        "colab_type": "code",
        "colab": {}
      },
      "source": [
        "plot(x = team_year_avg$year, y = team_year_avg$avg_AVG, type =\"b\")"
      ],
      "execution_count": null,
      "outputs": []
    },
    {
      "cell_type": "code",
      "metadata": {
        "id": "4hGiHWogvcff",
        "colab_type": "code",
        "colab": {}
      },
      "source": [
        "plot(x = team_year_avg$year, y = team_year_avg$avg_AVG, type =\"c\")"
      ],
      "execution_count": null,
      "outputs": []
    },
    {
      "cell_type": "code",
      "metadata": {
        "id": "7zJE0gg8vSYz",
        "colab_type": "code",
        "colab": {}
      },
      "source": [
        "# type \"n\"의 상태에서 point함수로 채움\n",
        "plot(x = team_year_avg$year, y = team_year_avg$avg_AVG, type =\"n\")"
      ],
      "execution_count": null,
      "outputs": []
    },
    {
      "cell_type": "markdown",
      "metadata": {
        "id": "9J_fZxA1zpmd",
        "colab_type": "text"
      },
      "source": [
        "* point, main, xlab, ylab"
      ]
    },
    {
      "cell_type": "code",
      "metadata": {
        "id": "UlP8oox28of2",
        "colab_type": "code",
        "colab": {}
      },
      "source": [
        "plot(x = team_year_avg$year, y = team_year_avg$avg_AVG, type = \"n\", main = \"Team batting average by Year\", xlab = \"YEAR\", ylab = \"AVG\")"
      ],
      "execution_count": null,
      "outputs": []
    },
    {
      "cell_type": "code",
      "metadata": {
        "id": "BVTzfawwwG2X",
        "colab_type": "code",
        "colab": {}
      },
      "source": [
        "# main, xlab, ylab\n",
        "# x 축, y축 이름 변경\n",
        "plot(x = team_year_avg$year, y = team_year_avg$avg_AVG, type = \"n\", main = \"Team batting average by Year\", xlab = \"YEAR\", ylab = \"AVG\")\n",
        "\n",
        "# point를 이용한 그래프 추가\n",
        "samsung <- team_year_avg %>% filter(team == \"삼성\")\n",
        "points(x = samsung$year, y = samsung$avg_AVG)"
      ],
      "execution_count": null,
      "outputs": []
    },
    {
      "cell_type": "code",
      "metadata": {
        "id": "lErqJ9-H6pFk",
        "colab_type": "code",
        "colab": {}
      },
      "source": [
        "# main, xlab, ylab\n",
        "# x 축, y축 이름 변경\n",
        "plot(x = team_year_avg$year, y = team_year_avg$avg_AVG, type = \"n\", main = \"Team batting average by Year\", xlab = \"YEAR\", ylab = \"AVG\")\n",
        "\n",
        "# point를 이용한 그래프 추가\n",
        "samsung <- team_year_avg %>% filter(team == \"삼성\")\n",
        "points(x = samsung$year, y = samsung$avg_AVG)\n",
        "\n",
        "sk <- team_year_avg %>% filter(team == \"SK\")\n",
        "points(x = sk$year, y = sk$avg_AVG)"
      ],
      "execution_count": null,
      "outputs": []
    },
    {
      "cell_type": "code",
      "metadata": {
        "id": "GC0BGF0n6yce",
        "colab_type": "code",
        "colab": {}
      },
      "source": [
        "# main, xlab, ylab\n",
        "# x 축, y축 이름 변경\n",
        "plot(x = team_year_avg$year, y = team_year_avg$avg_AVG, type = \"n\", main = \"Team batting average by Year\", xlab = \"YEAR\", ylab = \"AVG\")\n",
        "\n",
        "# point를 이용한 그래프 추가\n",
        "samsung <- team_year_avg %>% filter(team == \"삼성\")\n",
        "points(x = samsung$year, y = samsung$avg_AVG)\n",
        "\n",
        "sk <- team_year_avg %>% filter(team == \"SK\")\n",
        "points(x = sk$year, y = sk$avg_AVG)\n",
        "\n",
        "kia <- team_year_avg %>% filter(team == \"KIA\")\n",
        "points(x = kia$year, y = kia$avg_AVG)"
      ],
      "execution_count": null,
      "outputs": []
    },
    {
      "cell_type": "markdown",
      "metadata": {
        "id": "9GoBBsYozr1R",
        "colab_type": "text"
      },
      "source": [
        "* col\n",
        "\n",
        "http://sape.inf.usi.ch/quick-reference/ggplot2/colour"
      ]
    },
    {
      "cell_type": "code",
      "metadata": {
        "id": "W0t6wOEcAlEL",
        "colab_type": "code",
        "colab": {}
      },
      "source": [
        "# 출력 그래프 크기 변경\n",
        "library(repr)\n",
        "options(repr.plot.width=15, repr.plot.height=10)"
      ],
      "execution_count": null,
      "outputs": []
    },
    {
      "cell_type": "code",
      "metadata": {
        "id": "0Zq98iYmxYQy",
        "colab_type": "code",
        "colab": {}
      },
      "source": [
        "# col\n",
        "# team 별 색상 변경\n",
        "plot(x = team_year_avg$year, y = team_year_avg$avg_AVG, type = \"n\", main = \"Team batting average by Year\",xlab = \"YEAR\", ylab = \"AVG\")\n",
        "\n",
        "points(x = samsung$year, y = samsung$avg_AVG, col = \"maroon2\")\n",
        "points(x = sk$year, y = sk$avg_AVG, col = \"gold4\")\n",
        "points(x = kia$year, y = kia$avg_AVG, col = \"grey32\")"
      ],
      "execution_count": null,
      "outputs": []
    },
    {
      "cell_type": "markdown",
      "metadata": {
        "id": "AI7fmyQNztvc",
        "colab_type": "text"
      },
      "source": [
        "* pch\n",
        "\n",
        "![대체 텍스트](https://www.statmethods.net/advgraphs/images/points.png)"
      ]
    },
    {
      "cell_type": "code",
      "metadata": {
        "id": "GPJd3P7EyVxF",
        "colab_type": "code",
        "colab": {}
      },
      "source": [
        "# pch\n",
        "# 점의 모양 변경\n",
        "\n",
        "plot(x = team_year_avg$year, y = team_year_avg$avg_AVG, type = \"n\", main = \"Team batting average by Year\", xlab = \"YEAR\", ylab = \"AVG\")\n",
        "\n",
        "points(x = samsung$year, y = samsung$avg_AVG, col = \"maroon2\", pch = 8)\n",
        "points(x = sk$year, y = sk$avg_AVG, col = \"gold4\", pch = 11)\n",
        "points(x = kia$year, y = kia$avg_AVG, col = \"grey32\", pch = 4)"
      ],
      "execution_count": null,
      "outputs": []
    },
    {
      "cell_type": "markdown",
      "metadata": {
        "id": "P0WncJDyzvIn",
        "colab_type": "text"
      },
      "source": [
        "* cex"
      ]
    },
    {
      "cell_type": "code",
      "metadata": {
        "id": "99Gmb5BnzxxL",
        "colab_type": "code",
        "colab": {}
      },
      "source": [
        "# cex\n",
        "# 점의 크기 변경\n",
        "plot(x = team_year_avg$year, y = team_year_avg$avg_AVG, type = \"n\", main = \"Team batting average by Year\", xlab = \"YEAR\", ylab = \"AVG\")\n",
        "\n",
        "points(x = samsung$year, y = samsung$avg_AVG, col = \"maroon2\", pch = 8, cex = 2.5)\n",
        "points(x = sk$year, y = sk$avg_AVG, col = \"gold4\", pch = 11, cex = 2.5)\n",
        "points(x = kia$year, y = kia$avg_AVG, col = \"grey32\", pch = 4, cex = 2.5)"
      ],
      "execution_count": null,
      "outputs": []
    },
    {
      "cell_type": "markdown",
      "metadata": {
        "id": "kZ6CGt1d0DQY",
        "colab_type": "text"
      },
      "source": [
        "* legend"
      ]
    },
    {
      "cell_type": "code",
      "metadata": {
        "id": "dRj1GX9g0FQo",
        "colab_type": "code",
        "colab": {}
      },
      "source": [
        "plot(x = team_year_avg$year, y = team_year_avg$avg_AVG, type = \"n\", main = \"Team batting average by Year\", xlab = \"YEAR\", ylab = \"AVG\")\n",
        "points(x = samsung$year, y = samsung$avg_AVG, col = \"maroon2\", pch = 8, cex = 2)\n",
        "points(x = sk$year, y = sk$avg_AVG, col = \"gold4\", pch = 11, cex = 2)\n",
        "points(x = kia$year, y = kia$avg_AVG, col = \"grey32\", pch = 4, cex = 2)\n",
        "\n",
        "legend(\"topleft\", legend = c(\"삼성\",\"SK\",\"KIA\"))\n",
        "# \"bottomright\",\" bottom\",\"bottomleft\",\"left\",\"topleft\",\"top\",\"topright\",\"right\",\"center\""
      ],
      "execution_count": null,
      "outputs": []
    },
    {
      "cell_type": "code",
      "metadata": {
        "id": "MiPtrZg43qUD",
        "colab_type": "code",
        "colab": {}
      },
      "source": [
        "plot(x = team_year_avg$year, y = team_year_avg$avg_AVG, type = \"n\", main = \"Team batting average by Year\", xlab = \"YEAR\", ylab = \"AVG\")\n",
        "points(x = samsung$year, y = samsung$avg_AVG, col = \"maroon2\", pch = 8, cex = 2)\n",
        "points(x = sk$year, y = sk$avg_AVG, col = \"gold4\", pch = 11, cex = 2)\n",
        "points(x = kia$year, y = kia$avg_AVG, col = \"grey32\", pch = 4, cex = 2)\n",
        "\n",
        "legend(\"bottomright\", legend = c(\"삼성\",\"SK\",\"KIA\"), pch = c(8,11,4), col = c(\"maroon2\", \"gold4\", \"grey32\"), cex = 1.5)"
      ],
      "execution_count": null,
      "outputs": []
    },
    {
      "cell_type": "code",
      "metadata": {
        "id": "mvJqvySP95_l",
        "colab_type": "code",
        "colab": {}
      },
      "source": [
        "# point와 line 함수\n",
        "plot(x = team_year_avg$year, y = team_year_avg$avg_AVG, type = \"n\", main = \"Team batting average by Year\", xlab = \"YEAR\", ylab = \"AVG\")\n",
        "\n",
        "# 삼성\n",
        "points(x = samsung$year, y = samsung$avg_AVG, col = \"maroon2\", pch = 8, cex = 1)\n",
        "lines(x = samsung$year, y = samsung$avg_AVG, col = \"maroon2\")\n",
        "\n",
        "# SK\n",
        "points(x = sk$year, y = sk$avg_AVG, col = \"gold4\", pch = 11, cex = 1)\n",
        "lines(x = sk$year, y = sk$avg_AVG, col = \"gold4\")\n",
        "\n",
        "# KIA\n",
        "points(x = kia$year, y = kia$avg_AVG, col = \"grey32\", pch = 4, cex = 1)\n",
        "lines(x = kia$year, y = kia$avg_AVG, col = \"grey32\")\n",
        "\n",
        "legend(\"bottomright\", legend = c(\"삼성\",\"SK\",\"KIA\"), pch = c(8,11,4), col = c(\"maroon2\", \"gold4\", \"grey32\"), cex = 1.5)"
      ],
      "execution_count": null,
      "outputs": []
    },
    {
      "cell_type": "markdown",
      "metadata": {
        "colab_type": "text",
        "id": "09OWOQqfkJq6"
      },
      "source": [
        "## **2. ggplot2**\n",
        "\n",
        "\n",
        "https://ggplot2.tidyverse.org/reference/\n",
        "\n",
        "https://rstudio.com/wp-content/uploads/2015/03/ggplot2-cheatsheet.pdf\n",
        "\n",
        "https://www.r-graph-gallery.com/\n",
        "\n",
        "- - -\n",
        "\n",
        "```\n",
        "Grammar of Graphics\n",
        "일단 ggplot2의 철학(?)을 알아야 한다.\n",
        "\n",
        "gg는 grammar of graphics의 약자다. \n",
        "\n",
        "그리고 이 문법은 다음과 같은 요소를 갖고 있다.\n",
        "\n",
        "data : 시각화하려는 데이터 또는 실제 정보를 의미한다.\n",
        "geometries : (줄여서 ‘geoms‘로 쓰기도 하는데) 데이터를 표현하는 도형을 의미한다. 산점도의 점, 그래프의 막대나 선 등. 데이터를 “매핑”하는 모양이라 할 수 있다.\n",
        "aesthetics : 축의 스케일, 색상, 채우기 등 미학적/시각적 속성을 의미한다.\n",
        "이 세 가지 요소 외에도 layer의 개념을 기억하면 좋다. ggplot2는 빈 캔버스에 geoms을 추가하고, 다른 요소들을 레이어로 얹어서 플롯을 완성하는 방식이기 때문에.\n",
        "\n",
        "출처 : http://hleecaster.com/r-ggplot2-data-visualization/\n",
        "출처 : http://stulp.gmw.rug.nl/21-03-2019/ggplotworkshop/ggplottheory.html\n",
        "```\n",
        "\n"
      ]
    },
    {
      "cell_type": "markdown",
      "metadata": {
        "id": "jROGZBflYFHK",
        "colab_type": "text"
      },
      "source": [
        "```\n",
        "<Required>\n",
        "ggplot(data = <데이터프레임>, aes(x = x축, y축)) + \n",
        " geom_*  (point, bar, line, histogram, boxplot ...)\n",
        "\n",
        "```\n",
        "\n",
        "```\n",
        "<aes(aesthetic)>\n",
        "  1) x: X축 \n",
        "\n",
        "  2) y: Y축\n",
        "\n",
        "  3) color: 그래프의 색깔, 모양일 경우 테두리\n",
        "\n",
        "  4) fill: 채우는 색깔\n",
        "\n",
        "  5) size: 라이읜 굵기 또는 점의 크기\n",
        "\n",
        "  6) alpha: 투명도 \n",
        "\n",
        "  7) linetype: 선 패턴\n",
        "\n",
        "  8) labels: 표나 축의 텍스트\n",
        "\n",
        "  출처 : https://tariat.tistory.com/669\n",
        "```\n",
        "\n",
        "\n",
        "<center><img src=\"https://mblogthumb-phinf.pstatic.net/MjAxNzEwMjVfMjE5/MDAxNTA4ODg4MjY2MTk0.BZoMvCbkuMbw_Ywmi1fAyjonED-3tGQpat76O03diZYg.Al1ZXP7FEtexxtMHfKuJb2Gb_ZKPdWB69k_eHm-HBGkg.PNG.definitice/image.png?type=w800\" width=\"500\" height=\"300\"></center>\n"
      ]
    },
    {
      "cell_type": "code",
      "metadata": {
        "id": "aijbwrQDko_o",
        "colab_type": "code",
        "colab": {}
      },
      "source": [
        "ggplot()"
      ],
      "execution_count": null,
      "outputs": []
    },
    {
      "cell_type": "code",
      "metadata": {
        "id": "Lp-zRP-zZfVW",
        "colab_type": "code",
        "colab": {}
      },
      "source": [
        "ggplot(DF, aes(x = G, y = R))"
      ],
      "execution_count": null,
      "outputs": []
    },
    {
      "cell_type": "markdown",
      "metadata": {
        "id": "22duR7LFkYIk",
        "colab_type": "text"
      },
      "source": [
        "#### **A. geom_point()** \n",
        "\n",
        "---\n",
        "\n",
        "https://ggplot2.tidyverse.org/reference/geom_point.html\n",
        "\n"
      ]
    },
    {
      "cell_type": "code",
      "metadata": {
        "id": "YswfPe1WZnO3",
        "colab_type": "code",
        "colab": {}
      },
      "source": [
        "# geom_point()\n",
        "# https://ggplot2.tidyverse.org/reference/geom_point.html\n",
        "# AB(타수), R(득점수)\n",
        "ggplot(DF, aes(x = AB, y = R)) + \n",
        " geom_point()"
      ],
      "execution_count": null,
      "outputs": []
    },
    {
      "cell_type": "code",
      "metadata": {
        "id": "TBsPcg9HYMo5",
        "colab_type": "code",
        "colab": {}
      },
      "source": [
        "# geom_point()\n",
        "# aes(color, alpha)\n",
        "ggplot(data = DF, aes(x = AB, y = R, color = team)) +\n",
        " geom_point()"
      ],
      "execution_count": null,
      "outputs": []
    },
    {
      "cell_type": "code",
      "metadata": {
        "id": "1cAjrAhnde5D",
        "colab_type": "code",
        "colab": {}
      },
      "source": [
        "# geom_point()\n",
        "# aes(color)\n",
        "ggplot(data = DF, aes(x = AB, y = R, color = team)) +\n",
        " geom_point(alpha = 2/10, size = 5)"
      ],
      "execution_count": null,
      "outputs": []
    },
    {
      "cell_type": "code",
      "metadata": {
        "id": "P0rlGgKNbtPF",
        "colab_type": "code",
        "colab": {}
      },
      "source": [
        "# geom_point()\n",
        "# aes(size)\n",
        "ggplot(data = DF, aes(x = AB, y = R, color = team, size = R)) +\n",
        " geom_point(alpha = 4/10)"
      ],
      "execution_count": null,
      "outputs": []
    },
    {
      "cell_type": "markdown",
      "metadata": {
        "id": "bO0-oliMYFKF",
        "colab_type": "text"
      },
      "source": [
        "#### **B. geom_bar()**\n",
        "\n",
        "---\n",
        "\n",
        "https://ggplot2.tidyverse.org/reference/geom_bar.html\n",
        "\n",
        "https://m.blog.naver.com/PostView.nhn?blogId=coder1252&logNo=220931268317&proxyReferer=https:%2F%2Fwww.google.com%2F"
      ]
    },
    {
      "cell_type": "code",
      "metadata": {
        "id": "aI1aOIFzmec9",
        "colab_type": "code",
        "colab": {}
      },
      "source": [
        "# team별 R(득점수)와 H(안타수)의 합\n",
        "team_R_H_sum <- DF %>% group_by(team) %>% \n",
        " summarise(R_SUM = sum(R, na.rm = T), H_SUM = sum(H, na.rm = T))\n",
        "team_R_H_sum %>% show()"
      ],
      "execution_count": null,
      "outputs": []
    },
    {
      "cell_type": "code",
      "metadata": {
        "id": "dUOGwVokk1be",
        "colab_type": "code",
        "colab": {}
      },
      "source": [
        "# stat = count, identity\n",
        "ggplot(team_R_H_sum, aes(x = team)) + geom_bar(stat = \"count\")"
      ],
      "execution_count": null,
      "outputs": []
    },
    {
      "cell_type": "code",
      "metadata": {
        "id": "DfEL0al-l32k",
        "colab_type": "code",
        "colab": {}
      },
      "source": [
        "ggplot(team_R_H_sum, aes(x = team, y = R_SUM)) + geom_bar(stat = \"identity\")"
      ],
      "execution_count": null,
      "outputs": []
    },
    {
      "cell_type": "code",
      "metadata": {
        "id": "gFr_EfMjl7ed",
        "colab_type": "code",
        "colab": {}
      },
      "source": [
        "ggplot(team_R_H_sum, aes(x = team, y = R_SUM)) + geom_bar() # stat = \"count\""
      ],
      "execution_count": null,
      "outputs": []
    },
    {
      "cell_type": "code",
      "metadata": {
        "id": "5LwzzFzdmInv",
        "colab_type": "code",
        "colab": {}
      },
      "source": [
        ""
      ],
      "execution_count": null,
      "outputs": []
    },
    {
      "cell_type": "code",
      "metadata": {
        "id": "wXjQacHpn5BA",
        "colab_type": "code",
        "colab": {}
      },
      "source": [
        "# color\n",
        "ggplot(team_R_H_sum, aes(x = team, y = R_SUM)) + \n",
        " geom_bar(stat = \"identity\", aes(color = team))"
      ],
      "execution_count": null,
      "outputs": []
    },
    {
      "cell_type": "code",
      "metadata": {
        "id": "Ddu6LstDoG9V",
        "colab_type": "code",
        "colab": {}
      },
      "source": [
        "# fill\n",
        "ggplot(team_R_H_sum, aes(x = team, y = R_SUM)) +\n",
        " geom_bar(stat = \"identity\", aes(fill = team))"
      ],
      "execution_count": null,
      "outputs": []
    },
    {
      "cell_type": "code",
      "metadata": {
        "id": "-Skg6tEZqDeU",
        "colab_type": "code",
        "colab": {}
      },
      "source": [
        "# reorder\n",
        "ggplot(team_R_H_sum, aes(x = team, y = R_SUM)) + \n",
        " geom_bar(stat = \"identity\", aes(reorder(team, R_SUM), fill = team))"
      ],
      "execution_count": null,
      "outputs": []
    },
    {
      "cell_type": "code",
      "metadata": {
        "id": "PmReEQrBWN_Q",
        "colab_type": "code",
        "colab": {}
      },
      "source": [
        "# reorder\n",
        "ggplot(team_R_H_sum, aes(x = team, y = R_SUM)) + \n",
        " geom_bar(stat = \"identity\", aes(reorder(team, -R_SUM), fill = team))"
      ],
      "execution_count": null,
      "outputs": []
    },
    {
      "cell_type": "code",
      "metadata": {
        "id": "B68NpXlgooAx",
        "colab_type": "code",
        "colab": {}
      },
      "source": [
        "# coord_flip()\n",
        "ggplot(team_R_H_sum, aes(x = team, y = R_SUM)) +\n",
        " geom_bar(stat = \"identity\", aes(reorder(team, -R_SUM), fill = team)) +\n",
        " coord_flip()"
      ],
      "execution_count": null,
      "outputs": []
    },
    {
      "cell_type": "markdown",
      "metadata": {
        "id": "rv3iEPEnYFZm",
        "colab_type": "text"
      },
      "source": [
        "#### **C. geom_histogram(), geom_boxplot()**\n",
        "\n",
        "---\n",
        "https://ggplot2.tidyverse.org/reference/geom_histogram.html\n",
        "\n",
        "https://ggplot2.tidyverse.org/reference/geom_boxplot.html"
      ]
    },
    {
      "cell_type": "code",
      "metadata": {
        "id": "gybFKhqGtChG",
        "colab_type": "code",
        "colab": {}
      },
      "source": [
        "DF %>% ggplot(aes(H)) +\n",
        "  geom_histogram()"
      ],
      "execution_count": null,
      "outputs": []
    },
    {
      "cell_type": "code",
      "metadata": {
        "id": "ly68uFU8up4P",
        "colab_type": "code",
        "colab": {}
      },
      "source": [
        "# geom_histgram\n",
        "DF %>% ggplot(aes(H, color = team)) +\n",
        "  geom_histogram()"
      ],
      "execution_count": null,
      "outputs": []
    },
    {
      "cell_type": "code",
      "metadata": {
        "id": "_-ZTAHHawaNt",
        "colab_type": "code",
        "colab": {}
      },
      "source": [
        ""
      ],
      "execution_count": null,
      "outputs": []
    },
    {
      "cell_type": "code",
      "metadata": {
        "id": "FHSFYwJ1up93",
        "colab_type": "code",
        "colab": {}
      },
      "source": [
        "# geom_histgram\n",
        "DF %>% ggplot(aes(H, fill = team)) +\n",
        " geom_histogram()"
      ],
      "execution_count": null,
      "outputs": []
    },
    {
      "cell_type": "code",
      "metadata": {
        "id": "4D1S-2LvuqBL",
        "colab_type": "code",
        "colab": {}
      },
      "source": [
        "# geom_histgram\n",
        "DF %>% ggplot(aes(H, fill = team)) +\n",
        " geom_histogram(bins = 12)"
      ],
      "execution_count": null,
      "outputs": []
    },
    {
      "cell_type": "code",
      "metadata": {
        "id": "V02-FjhVX6MN",
        "colab_type": "code",
        "colab": {}
      },
      "source": [
        "# geom_histgram\n",
        "DF %>% ggplot(aes(H, fill = team)) +\n",
        " geom_histogram(bins = 1)"
      ],
      "execution_count": null,
      "outputs": []
    },
    {
      "cell_type": "code",
      "metadata": {
        "id": "2uVAanVUup1x",
        "colab_type": "code",
        "colab": {}
      },
      "source": [
        "# scale_xy_continuous\n",
        "DF %>% ggplot(aes(H, fill = team)) +\n",
        " geom_histogram(bins = 12) +\n",
        " scale_x_continuous(breaks = seq(0, 220, 10)) + \n",
        " scale_y_continuous(breaks = seq(0, 800, 20))"
      ],
      "execution_count": null,
      "outputs": []
    },
    {
      "cell_type": "code",
      "metadata": {
        "id": "t2yewCz30nFR",
        "colab_type": "code",
        "colab": {}
      },
      "source": [
        "# position = \"dodge\"\n",
        "DF %>% ggplot(aes(H, fill = team)) +\n",
        " geom_histogram(position = \"dodge\") +\n",
        " scale_x_continuous(breaks = seq(0, 220, 10)) + \n",
        " scale_y_continuous(breaks = seq(0, 800, 20))"
      ],
      "execution_count": null,
      "outputs": []
    },
    {
      "cell_type": "code",
      "metadata": {
        "id": "8ioDslMi1zeu",
        "colab_type": "code",
        "colab": {}
      },
      "source": [
        "# geom_boxplot\n",
        "DF %>% ggplot(aes(x = team, y = R)) +\n",
        " geom_boxplot() +\n",
        " ggtitle(\"Team 별 R(득점) boxplot\")"
      ],
      "execution_count": null,
      "outputs": []
    },
    {
      "cell_type": "markdown",
      "metadata": {
        "id": "AUN2uy1JvZU1",
        "colab_type": "text"
      },
      "source": [
        "#### **D. extrafont, theme를 이용해서한글을 제대로 출력해보자!!!!**\n",
        "\n",
        "---\n",
        "\n",
        "https://ggplot2.tidyverse.org/reference/theme.html"
      ]
    },
    {
      "cell_type": "code",
      "metadata": {
        "id": "5YoKHwkl5u3e",
        "colab_type": "code",
        "colab": {}
      },
      "source": [
        "# google colab(Ubuntu) 만 해당(Window, Mac 유저는 이 부분 실행하면 오류 발생, 배달의 민족 폰트 : https://www.woowahan.com/#/fonts)\n",
        "system(\"sudo apt-get install fonts-nanum-coding\")\n",
        "#/usr/share/fonts/truetpye/nanum\""
      ],
      "execution_count": null,
      "outputs": []
    },
    {
      "cell_type": "code",
      "metadata": {
        "id": "E6jMRDGh6Y5Q",
        "colab_type": "code",
        "colab": {}
      },
      "source": [
        "install.packages(\"extrafont\")\n",
        "library(extrafont)"
      ],
      "execution_count": null,
      "outputs": []
    },
    {
      "cell_type": "code",
      "metadata": {
        "id": "QUwme3Dh6aci",
        "colab_type": "code",
        "colab": {}
      },
      "source": [
        "options(warn = -1)\n",
        "font_import(pattern = \"Nanum\")  # 또는 font_import() 전체.. 시간 오래걸림\n",
        "\n",
        "fonts() # 해당 셀 완료후, 메뉴 - 런타임 - 런타임 재시작"
      ],
      "execution_count": null,
      "outputs": []
    },
    {
      "cell_type": "code",
      "metadata": {
        "id": "ULuiuhh_zsid",
        "colab_type": "code",
        "colab": {}
      },
      "source": [
        "fonts()[1]"
      ],
      "execution_count": null,
      "outputs": []
    },
    {
      "cell_type": "code",
      "metadata": {
        "id": "2kZIpU1sBvc-",
        "colab_type": "code",
        "colab": {}
      },
      "source": [
        "library(tidyverse)\n",
        "library(data.table)\n",
        "DF <- fread(\"ftp://210.115.229.94/2020_datascience/6th_data/Regular_Season_Batter.csv\") %>% as_tibble()"
      ],
      "execution_count": null,
      "outputs": []
    },
    {
      "cell_type": "code",
      "metadata": {
        "id": "bEinY5rkw4KM",
        "colab_type": "code",
        "colab": {}
      },
      "source": [
        "# geom_boxplot\n",
        "# http://blog.naver.com/nife0719/221000580841\n",
        "DF %>% ggplot(aes(x = team, y = R)) +\n",
        " geom_boxplot() +\n",
        " ggtitle(\"Team 별 R(득점) boxplot\") +\n",
        " theme(plot.title = element_text(family = fonts()[1], size = 25, face = \"bold\", hjust = 0.5), \n",
        "       axis.title.x = element_text(family = fonts()[1], size = 15,face = \"bold\"),\n",
        "       axis.title.y = element_text(family = fonts()[1], size = 15,face = \"bold\"),\n",
        "       axis.text.x = element_text(family = fonts()[1], size = 12, angle = 90, face = \"bold\"),\n",
        "       axis.text.y = element_text(family = fonts()[1], size = 12, angle = 90, face = \"bold\"))"
      ],
      "execution_count": null,
      "outputs": []
    },
    {
      "cell_type": "code",
      "metadata": {
        "id": "FPsS-wbV0Hjq",
        "colab_type": "code",
        "colab": {}
      },
      "source": [
        "# geom_boxplot\n",
        "# http://blog.naver.com/nife0719/221000580841\n",
        "DF %>% ggplot(aes(x = team, y = R, fill = team)) + # 또는 color\n",
        " geom_boxplot() +\n",
        " ggtitle(\"Team 별 R(득점) boxplot\") +\n",
        " theme(plot.title = element_text(family = fonts()[1], size = 25, face = \"bold\", color = \"maroon2\", hjust = 0.5), \n",
        "       axis.title.x = element_text(family = fonts()[1], size = 15,face = \"bold\", color = \"red\"),\n",
        "       axis.title.y = element_text(family = fonts()[1], size = 20,face = \"bold\", color = \"blue\"),\n",
        "       axis.text.x = element_text(family = fonts()[1], size = 12, angle = 90, face = \"bold\"),\n",
        "       axis.text.y = element_text(family = fonts()[1], size = 12, angle = 90, face = \"bold\"))"
      ],
      "execution_count": null,
      "outputs": []
    },
    {
      "cell_type": "code",
      "metadata": {
        "id": "6RhvPKDS5E0s",
        "colab_type": "code",
        "colab": {}
      },
      "source": [
        "# geom_boxplot\n",
        "# http://blog.naver.com/nife0719/221000580841\n",
        "DF %>% ggplot(aes(x = team, y = R, color = team)) + # 또는 color\n",
        " geom_boxplot() +\n",
        " ggtitle(\"Team 별 R(득점) boxplot\") +\n",
        " theme(plot.title = element_text(family = fonts()[1], size = 25, face = \"bold\", color = \"maroon2\", hjust = 0.5), \n",
        "       axis.title.x = element_text(family = fonts()[1], size = 15,face = \"bold\", color = \"red\"),\n",
        "       axis.title.y = element_text(family = fonts()[1], size = 20,face = \"bold\", color = \"blue\"),\n",
        "       axis.text.x = element_text(family = fonts()[1], size = 12, angle = 90, face = \"bold\"),\n",
        "       axis.text.y = element_text(family = fonts()[1], size = 12, angle = 90, face = \"bold\"))"
      ],
      "execution_count": null,
      "outputs": []
    },
    {
      "cell_type": "markdown",
      "metadata": {
        "id": "LGHkbz_O3bUn",
        "colab_type": "text"
      },
      "source": [
        "#### **E. RColorBrewer, scale_fill_brewer, scale_color_brewer**\n",
        "\n",
        "---\n",
        "\n",
        "https://ggplot2.tidyverse.org/reference/scale_brewer.html\n"
      ]
    },
    {
      "cell_type": "code",
      "metadata": {
        "id": "fDfyDc3b2AMJ",
        "colab_type": "code",
        "colab": {}
      },
      "source": [
        "library(RColorBrewer)\n",
        "RColorBrewer::display.brewer.all()"
      ],
      "execution_count": null,
      "outputs": []
    },
    {
      "cell_type": "code",
      "metadata": {
        "id": "PVv31Na63VWs",
        "colab_type": "code",
        "colab": {}
      },
      "source": [
        "RColorBrewer::brewer.pal.info %>% show()"
      ],
      "execution_count": null,
      "outputs": []
    },
    {
      "cell_type": "code",
      "metadata": {
        "id": "tnKYWvrgAY7O",
        "colab_type": "code",
        "colab": {}
      },
      "source": [
        "# geom_boxplot\n",
        "DF %>% ggplot(aes(x = team, y = R, color = team)) + # 또는 color\n",
        " geom_boxplot() +\n",
        " ggtitle(\"Team 별 R(득점) boxplot\") +\n",
        " theme(plot.title = element_text(family = fonts()[1], size = 25, face = \"bold\", color = \"maroon2\", hjust = 0.5), \n",
        "       axis.title.x = element_text(family = fonts()[1], size = 20,face = \"bold\"),\n",
        "       axis.title.y = element_text(family = fonts()[1], size = 20,face = \"bold\"),\n",
        "       axis.text.x = element_text(family = fonts()[1], size = 12, angle = 90, face = \"bold\"),\n",
        "       axis.text.y = element_text(family = fonts()[1], size = 12, angle = 90, face = \"bold\"))"
      ],
      "execution_count": null,
      "outputs": []
    },
    {
      "cell_type": "code",
      "metadata": {
        "id": "lVuZazTvAdf5",
        "colab_type": "code",
        "colab": {}
      },
      "source": [
        "# geom_boxplot\n",
        "DF %>% ggplot(aes(x = team, y = R, color = team)) + # 또는 color\n",
        " geom_boxplot() +\n",
        " ggtitle(\"Team 별 R(득점) boxplot\") +\n",
        " theme(plot.title = element_text(family = fonts()[1], size = 25, face = \"bold\", color = \"maroon2\", hjust = 0.5), \n",
        "       axis.title.x = element_text(family = fonts()[1], size = 20,face = \"bold\"),\n",
        "       axis.title.y = element_text(family = fonts()[1], size = 20,face = \"bold\"),\n",
        "       axis.text.x = element_text(family = fonts()[1], size = 12, angle = 90, face = \"bold\"),\n",
        "       axis.text.y = element_text(family = fonts()[1], size = 12, angle = 90, face = \"bold\"))+\n",
        "  scale_color_brewer(palette = \"PuOr\")"
      ],
      "execution_count": null,
      "outputs": []
    },
    {
      "cell_type": "code",
      "metadata": {
        "id": "nMYAHywrBPr4",
        "colab_type": "code",
        "colab": {}
      },
      "source": [
        "# geom_boxplot\n",
        "DF %>% ggplot(aes(x = team, y = R, fill = team)) + # 또는 color\n",
        " geom_boxplot() +\n",
        " ggtitle(\"Team 별 R(득점) boxplot\") +\n",
        " theme(plot.title = element_text(family = fonts()[1], size = 25, face = \"bold\", color = \"maroon2\", hjust = 0.5), \n",
        "       axis.title.x = element_text(family = fonts()[1], size = 20,face = \"bold\"),\n",
        "       axis.title.y = element_text(family = fonts()[1], size = 20,face = \"bold\"),\n",
        "       axis.text.x = element_text(family = fonts()[1], size = 12, angle = 90, face = \"bold\"),\n",
        "       axis.text.y = element_text(family = fonts()[1], size = 12, angle = 90, face = \"bold\"))"
      ],
      "execution_count": null,
      "outputs": []
    },
    {
      "cell_type": "code",
      "metadata": {
        "id": "hAen_hDMBPyj",
        "colab_type": "code",
        "colab": {}
      },
      "source": [
        "# geom_boxplot\n",
        "DF %>% ggplot(aes(x = team, y = R, fill = team)) + # 또는 color\n",
        " geom_boxplot() +\n",
        " ggtitle(\"Team 별 R(득점) boxplot\") +\n",
        " theme(plot.title = element_text(family = fonts()[1], size = 25, face = \"bold\", color = \"maroon2\", hjust = 0.5), \n",
        "       axis.title.x = element_text(family = fonts()[1], size = 20,face = \"bold\"),\n",
        "       axis.title.y = element_text(family = fonts()[1], size = 20,face = \"bold\"),\n",
        "       axis.text.x = element_text(family = fonts()[1], size = 12, angle = 90, face = \"bold\"),\n",
        "       axis.text.y = element_text(family = fonts()[1], size = 12, angle = 90, face = \"bold\"))+\n",
        "  scale_fill_brewer(palette = \"PuOr\")"
      ],
      "execution_count": null,
      "outputs": []
    },
    {
      "cell_type": "code",
      "metadata": {
        "id": "5ehCtfTHBhS3",
        "colab_type": "code",
        "colab": {}
      },
      "source": [
        "# geom_boxplot\n",
        "DF %>% ggplot(aes(x = team, y = R, fill = team, color = team)) + # 또는 color\n",
        " geom_boxplot() +\n",
        " ggtitle(\"Team 별 R(득점) boxplot\") +\n",
        " theme(plot.title = element_text(family = fonts()[1], size = 25, face = \"bold\", color = \"maroon2\", hjust = 0.5), \n",
        "       axis.title.x = element_text(family = fonts()[1], size = 20,face = \"bold\"),\n",
        "       axis.title.y = element_text(family = fonts()[1], size = 20,face = \"bold\"),\n",
        "       axis.text.x = element_text(family = fonts()[1], size = 12, angle = 90, face = \"bold\"),\n",
        "       axis.text.y = element_text(family = fonts()[1], size = 12, angle = 90, face = \"bold\"))+\n",
        "  scale_fill_brewer(palette = \"PuOr\")"
      ],
      "execution_count": null,
      "outputs": []
    },
    {
      "cell_type": "code",
      "metadata": {
        "id": "26AGijTvg_Iq",
        "colab_type": "code",
        "colab": {}
      },
      "source": [
        ""
      ],
      "execution_count": null,
      "outputs": []
    },
    {
      "cell_type": "markdown",
      "metadata": {
        "id": "tw2HO6szheNQ",
        "colab_type": "text"
      },
      "source": [
        "# **<5주차 과제 - 100점>**\n",
        "\n",
        "### **(1) 각각의 문제 바로 아래에 답을 작성 후, Bigdata Lab 5.ipynb 파일을 SmartLEAD에 제출할 것**\n",
        "### **(2) 제출 데드라인 : 2020.9.28(월요일) ~ 2020.10.11(일요일) 23:59 까지**\n",
        "### **(3) 부정행위 적발 시, 원본(보여준 사람)과 복사본(베낀 사람) 모두 0점 처리**\n",
        "### **(4) !!해당 문제의 코드와 출력 결과를 반드시 기록할 것(둘 중 하나라도 없으면 해당 문제 0점처리)!!**\n",
        "\n",
        "\n",
        "- - -\n"
      ]
    },
    {
      "cell_type": "markdown",
      "metadata": {
        "id": "QvJeTokHhogT",
        "colab_type": "text"
      },
      "source": [
        "## 1. base R의 여러 plot 함수 사용 - ``pie, barplot, hist`` (60점)\n",
        "\n",
        "**<사용되는 데이터 - Regular_Season_Batter.csv>**\n",
        "\n",
        "Base R의 ``pie(), barplot(), hist()``를 사용해보자. \n",
        "\n",
        "Regular_Season_Batter에서 ``적절한 열(column)을 선택``하여 조건을 만족하는 ``pie(), barplot(), hist() 그래프를 각각 그리자(그래프당 20점) ``\n",
        "\n",
        "```\n",
        "<조건>\n",
        "1. 사용되는 열(column)은 그리고자 하는 그래프 특성에 맞추어서 선택할 것. \n",
        "2. 반드시 ggplot2가 아닌 baseR의 함수로 진행할 것. \n",
        "3. 옵션(option)은 그래프 제목(main), x/y축 이름(xlab, ylab)은 반드시 포함해야 함. 그 외의 옵션은 자유롭게 설정할 것. \n",
        "4. 각각의 그래프에는 간략한 설명 (2~3 줄)을 포함할 것. \n",
        "```\n"
      ]
    },
    {
      "cell_type": "code",
      "metadata": {
        "id": "HDgTD5mwmR5w",
        "colab_type": "code",
        "colab": {}
      },
      "source": [
        "# 데이터\n",
        "DF <- fread(\"ftp://210.115.229.94/2020_datascience/6th_data/Regular_Season_Batter.csv\") %>% as_tibble()"
      ],
      "execution_count": null,
      "outputs": []
    },
    {
      "cell_type": "code",
      "metadata": {
        "id": "wnSGhrEkhjGk",
        "colab_type": "code",
        "colab": {}
      },
      "source": [
        "## 답안 작성\n",
        "#\n"
      ],
      "execution_count": null,
      "outputs": []
    },
    {
      "cell_type": "code",
      "metadata": {
        "id": "xBLPP3cf4wz8",
        "colab_type": "code",
        "colab": {}
      },
      "source": [
        ""
      ],
      "execution_count": null,
      "outputs": []
    },
    {
      "cell_type": "code",
      "metadata": {
        "id": "Xld-vAra4xBm",
        "colab_type": "code",
        "colab": {}
      },
      "source": [
        ""
      ],
      "execution_count": null,
      "outputs": []
    },
    {
      "cell_type": "markdown",
      "metadata": {
        "id": "MUN15TcgmYat",
        "colab_type": "text"
      },
      "source": [
        "## 2. 특정 선수의 연도별 그래프(ggplot2 이용) (40점)\n",
        "\n",
        "**<사용되는 데이터 - Regular_Season_Batter.csv >**\n",
        "\n",
        "Regular_Season_Batter.csv에서 ``특정 선수를 선택``하고, \n",
        "\n",
        "``H(안타 개수)``, ``HR(홈런 개수)``, ``R(득점 개수)``를 ``연도별``로 그래프를 그려보자 \n",
        "\n",
        "```\n",
        "<참고사항> \n",
        "\n",
        "특정 선수는 자유롭게 한 명을 선택할 것. \n",
        "반드시 ggplot2으로 진행하고 아래의 조건을 만족할 것. \n",
        "\n",
        "<조건> \n",
        "1. 반드시 사용되는 열(column)인 batter_name(특정 선수 1명), year와 H, HR, R열로 진행\n",
        "2. ggtitle를 이용해서 그래프의 제목을 설정할 것.\n",
        "3. extrafont를 이용해서 한글이 깨지는 것을 방지할 것\n",
        "4. scale_color_brewer 또는 scale_fill_brewer 적용(RColorBrewer 사용) \n",
        "5. facet_wrap 적용 \n",
        "6. 그래프에는 간략한 설명 (2~3 줄)을 포함할 것. \n",
        "```\n",
        "\n",
        "* 예시\n",
        "\n",
        "![Rplot.png](data:image/png;base64,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)\n",
        "\n"
      ]
    },
    {
      "cell_type": "code",
      "metadata": {
        "id": "GX_KwfAxmkZD",
        "colab_type": "code",
        "colab": {}
      },
      "source": [
        "# 데이터\n",
        "DF <- fread(\"ftp://210.115.229.94/2020_datascience/6th_data/Regular_Season_Batter.csv\") %>% as_tibble()"
      ],
      "execution_count": null,
      "outputs": []
    },
    {
      "cell_type": "code",
      "metadata": {
        "id": "DmrMGjdqrIfI",
        "colab_type": "code",
        "colab": {}
      },
      "source": [
        "## 답안 작성\n",
        "#\n"
      ],
      "execution_count": null,
      "outputs": []
    }
  ]
}